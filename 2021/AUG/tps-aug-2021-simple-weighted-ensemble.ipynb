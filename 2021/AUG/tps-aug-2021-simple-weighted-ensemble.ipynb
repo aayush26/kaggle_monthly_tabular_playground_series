{
 "cells": [
  {
   "cell_type": "code",
   "execution_count": 1,
   "id": "e57e1e26",
   "metadata": {
    "_cell_guid": "b1076dfc-b9ad-4769-8c92-a6c4dae69d19",
    "_uuid": "8f2839f25d086af736a60e9eeb907d3b93b6e0e5",
    "execution": {
     "iopub.execute_input": "2021-08-31T18:51:31.000667Z",
     "iopub.status.busy": "2021-08-31T18:51:30.999074Z",
     "iopub.status.idle": "2021-08-31T18:51:31.010907Z",
     "shell.execute_reply": "2021-08-31T18:51:31.011481Z",
     "shell.execute_reply.started": "2021-08-31T18:50:45.414661Z"
    },
    "papermill": {
     "duration": 0.024537,
     "end_time": "2021-08-31T18:51:31.011799",
     "exception": false,
     "start_time": "2021-08-31T18:51:30.987262",
     "status": "completed"
    },
    "tags": []
   },
   "outputs": [],
   "source": [
    "import pandas as pd # data processing, CSV file I/O (e.g. pd.read_csv)"
   ]
  },
  {
   "cell_type": "markdown",
   "id": "4247e584",
   "metadata": {
    "papermill": {
     "duration": 0.006467,
     "end_time": "2021-08-31T18:51:31.025794",
     "exception": false,
     "start_time": "2021-08-31T18:51:31.019327",
     "status": "completed"
    },
    "tags": []
   },
   "source": [
    "### Intuition: Multiple models lead a better model.\n",
    "\n",
    "### Open question:\n",
    "\n",
    "1. How to decide the weights for different model outputs?\n",
    "  1. One way is weight the better performing model more.\n",
    "\n",
    "### Credits\n",
    "\n",
    "1. https://www.kaggle.com/yus002/tps-lgbm-model by @yus002\n",
    "2. https://www.kaggle.com/carlmcbrideellis/histogram-gradient-boost-starter-script by @carlmcbrideellis\n",
    "3. https://www.kaggle.com/riyajm/baseline-gpu-based-xgb-hyperopt-optimize by @riyajm \n",
    "4. https://www.kaggle.com/andy6804tw/tps-08-21-catboost by @andy6804tw\n",
    "5. https://www.kaggle.com/michael127001/xgbregressor-with-optuna-tuning by @michael127001\n",
    "6. https://www.kaggle.com/pranjalverma08/tps-08-cb-lgbm-xgb-starter by @pranjalverma08\n",
    "7. https://www.kaggle.com/alexryzhkov/aug21-lightautoml-starter by @alexryzhkov\n",
    "8. https://www.kaggle.com/dmitryuarov/falling-below-7-87-voting-cb-xgb-lgbm by @dmitryuarov\n",
    "9. https://www.kaggle.com/alexryzhkov/lightautoml-classifier-regressor-mix by @alexryzhkov\n",
    "10. https://www.kaggle.com/hiro5299834/tps-aug-2021-lgbm-xgb-catboost by @hiro5299834\n",
    "11. https://www.kaggle.com/yus002/blending-tool-tps-aug-2021 by @yus002\n",
    "12. https://www.kaggle.com/pavfedotov/blending-tool-tps-aug-2021 by @pavfedotov\n",
    "13. https://www.kaggle.com/takahiroyoshida012/smart-ensembling-tps-aug-2021-7-84986 by @takahiroyoshida012\n",
    "\n",
    "**Upvote for support!! and kudos to the above mentioned notebooks!!**"
   ]
  },
  {
   "cell_type": "code",
   "execution_count": 2,
   "id": "800a339f",
   "metadata": {
    "execution": {
     "iopub.execute_input": "2021-08-31T18:51:31.043088Z",
     "iopub.status.busy": "2021-08-31T18:51:31.042327Z",
     "iopub.status.idle": "2021-08-31T18:51:31.047379Z",
     "shell.execute_reply": "2021-08-31T18:51:31.047909Z",
     "shell.execute_reply.started": "2021-08-31T18:50:53.528354Z"
    },
    "papermill": {
     "duration": 0.015537,
     "end_time": "2021-08-31T18:51:31.048085",
     "exception": false,
     "start_time": "2021-08-31T18:51:31.032548",
     "status": "completed"
    },
    "tags": []
   },
   "outputs": [],
   "source": [
    "# list of (weight, submission file path)\n",
    "# supports n number of files\n",
    "# make sure the weights sum up to 1 always.\n",
    "weight_model_paths_pairs = [\n",
    "#     (.025,'../input/gradientboosting1/submission.csv'),\n",
    "#     (.025, '../input/lgbm1/submission.csv'),\n",
    "#     (.02, '../input/xgboost1/submission1.csv'),\n",
    "#     (.01, '../input/catboost1/submission(1).csv'),\n",
    "#     (.03, '../input/xgbregressor1/submission (4).csv'),\n",
    "#     (.04, '../input/cbxgblgm1/subcat.csv'),\n",
    "#     (.02, '../input/lightautoml/In_LightAutoML_we_trust.csv'),\n",
    "#     (.01, '../input/blend1/voting.csv'),\n",
    "#     (.04, '../input/lightautoml2/LightAutoML_utilized_submission.csv'),\n",
    "#     (.005, '../input/lightautoml3/LightAutoML_utilized_submission (1).csv'),\n",
    "#     (.001, '../input/lightautoml4/LightAutoML_utilized_submission (2).csv'),\n",
    "#     (.1, '../input/blend5/0.part'),\n",
    "#     (.5, '../input/blend5/file1_7.84996_file2_7.85000_blend.csv'),\n",
    "    (.025, '../input/blend6/0 (1).part'),\n",
    "    (.025, '../input/blend7/0 (2).part'),\n",
    "    (.15, '../input/feedback2/submission_weighted_ensemble_24.csv'),\n",
    "    (.1, '../input/blend8/submission (6).csv'),\n",
    "    (.7,'../input/blend9/0 (3).part')]"
   ]
  },
  {
   "cell_type": "code",
   "execution_count": 3,
   "id": "a6a706bb",
   "metadata": {
    "execution": {
     "iopub.execute_input": "2021-08-31T18:51:31.065643Z",
     "iopub.status.busy": "2021-08-31T18:51:31.064919Z",
     "iopub.status.idle": "2021-08-31T18:51:31.071450Z",
     "shell.execute_reply": "2021-08-31T18:51:31.070788Z",
     "shell.execute_reply.started": "2021-08-31T18:50:54.326892Z"
    },
    "papermill": {
     "duration": 0.016643,
     "end_time": "2021-08-31T18:51:31.071595",
     "exception": false,
     "start_time": "2021-08-31T18:51:31.054952",
     "status": "completed"
    },
    "tags": []
   },
   "outputs": [
    {
     "name": "stdout",
     "output_type": "stream",
     "text": [
      "1.0\n"
     ]
    }
   ],
   "source": [
    "# verify weights sum up to ~1\n",
    "res = 0\n",
    "for x, y in weight_model_paths_pairs:\n",
    "    res = res + x;\n",
    "print(res)"
   ]
  },
  {
   "cell_type": "code",
   "execution_count": 4,
   "id": "595512cc",
   "metadata": {
    "execution": {
     "iopub.execute_input": "2021-08-31T18:51:31.090322Z",
     "iopub.status.busy": "2021-08-31T18:51:31.089578Z",
     "iopub.status.idle": "2021-08-31T18:51:31.974276Z",
     "shell.execute_reply": "2021-08-31T18:51:31.973664Z",
     "shell.execute_reply.started": "2021-08-26T07:05:41.287852Z"
    },
    "papermill": {
     "duration": 0.895115,
     "end_time": "2021-08-31T18:51:31.974427",
     "exception": false,
     "start_time": "2021-08-31T18:51:31.079312",
     "status": "completed"
    },
    "tags": []
   },
   "outputs": [],
   "source": [
    "targets = ['loss']\n",
    "\n",
    "submissions = []\n",
    "for weight, path in weight_model_paths_pairs:\n",
    "    df = pd.read_csv(path)\n",
    "    df[targets] = df[targets] * weight\n",
    "    submissions.append(df)\n",
    "\n",
    "ensembled_output = pd.concat(submissions).groupby(['id']).sum().reset_index()"
   ]
  },
  {
   "cell_type": "code",
   "execution_count": 5,
   "id": "07680238",
   "metadata": {
    "execution": {
     "iopub.execute_input": "2021-08-31T18:51:31.996972Z",
     "iopub.status.busy": "2021-08-31T18:51:31.996184Z",
     "iopub.status.idle": "2021-08-31T18:51:32.012523Z",
     "shell.execute_reply": "2021-08-31T18:51:32.012005Z",
     "shell.execute_reply.started": "2021-08-26T07:05:44.743948Z"
    },
    "papermill": {
     "duration": 0.030736,
     "end_time": "2021-08-31T18:51:32.012668",
     "exception": false,
     "start_time": "2021-08-31T18:51:31.981932",
     "status": "completed"
    },
    "tags": []
   },
   "outputs": [
    {
     "data": {
      "text/html": [
       "<div>\n",
       "<style scoped>\n",
       "    .dataframe tbody tr th:only-of-type {\n",
       "        vertical-align: middle;\n",
       "    }\n",
       "\n",
       "    .dataframe tbody tr th {\n",
       "        vertical-align: top;\n",
       "    }\n",
       "\n",
       "    .dataframe thead th {\n",
       "        text-align: right;\n",
       "    }\n",
       "</style>\n",
       "<table border=\"1\" class=\"dataframe\">\n",
       "  <thead>\n",
       "    <tr style=\"text-align: right;\">\n",
       "      <th></th>\n",
       "      <th>id</th>\n",
       "      <th>loss</th>\n",
       "    </tr>\n",
       "  </thead>\n",
       "  <tbody>\n",
       "    <tr>\n",
       "      <th>0</th>\n",
       "      <td>250000</td>\n",
       "      <td>8.404822</td>\n",
       "    </tr>\n",
       "    <tr>\n",
       "      <th>1</th>\n",
       "      <td>250001</td>\n",
       "      <td>5.075396</td>\n",
       "    </tr>\n",
       "    <tr>\n",
       "      <th>2</th>\n",
       "      <td>250002</td>\n",
       "      <td>9.120423</td>\n",
       "    </tr>\n",
       "    <tr>\n",
       "      <th>3</th>\n",
       "      <td>250003</td>\n",
       "      <td>7.992415</td>\n",
       "    </tr>\n",
       "    <tr>\n",
       "      <th>4</th>\n",
       "      <td>250004</td>\n",
       "      <td>6.902074</td>\n",
       "    </tr>\n",
       "  </tbody>\n",
       "</table>\n",
       "</div>"
      ],
      "text/plain": [
       "       id      loss\n",
       "0  250000  8.404822\n",
       "1  250001  5.075396\n",
       "2  250002  9.120423\n",
       "3  250003  7.992415\n",
       "4  250004  6.902074"
      ]
     },
     "execution_count": 5,
     "metadata": {},
     "output_type": "execute_result"
    }
   ],
   "source": [
    "ensembled_output.head()"
   ]
  },
  {
   "cell_type": "code",
   "execution_count": 6,
   "id": "786fb29d",
   "metadata": {
    "execution": {
     "iopub.execute_input": "2021-08-31T18:51:32.031277Z",
     "iopub.status.busy": "2021-08-31T18:51:32.030569Z",
     "iopub.status.idle": "2021-08-31T18:51:32.580729Z",
     "shell.execute_reply": "2021-08-31T18:51:32.579735Z",
     "shell.execute_reply.started": "2021-08-17T16:13:22.22183Z"
    },
    "papermill": {
     "duration": 0.560667,
     "end_time": "2021-08-31T18:51:32.580925",
     "exception": false,
     "start_time": "2021-08-31T18:51:32.020258",
     "status": "completed"
    },
    "tags": []
   },
   "outputs": [],
   "source": [
    "ensembled_output.to_csv('submission_weighted_ensemble_27.csv', index=False)"
   ]
  }
 ],
 "metadata": {
  "kernelspec": {
   "display_name": "Python 3",
   "language": "python",
   "name": "python3"
  },
  "language_info": {
   "codemirror_mode": {
    "name": "ipython",
    "version": 3
   },
   "file_extension": ".py",
   "mimetype": "text/x-python",
   "name": "python",
   "nbconvert_exporter": "python",
   "pygments_lexer": "ipython3",
   "version": "3.7.10"
  },
  "papermill": {
   "default_parameters": {},
   "duration": 11.666198,
   "end_time": "2021-08-31T18:51:33.504893",
   "environment_variables": {},
   "exception": null,
   "input_path": "__notebook__.ipynb",
   "output_path": "__notebook__.ipynb",
   "parameters": {},
   "start_time": "2021-08-31T18:51:21.838695",
   "version": "2.3.3"
  }
 },
 "nbformat": 4,
 "nbformat_minor": 5
}
