{
 "cells": [
  {
   "cell_type": "markdown",
   "id": "b7c87192",
   "metadata": {
    "papermill": {
     "duration": 0.012195,
     "end_time": "2021-08-08T21:44:02.043784",
     "exception": false,
     "start_time": "2021-08-08T21:44:02.031589",
     "status": "completed"
    },
    "tags": []
   },
   "source": [
    "# Imports"
   ]
  },
  {
   "cell_type": "code",
   "execution_count": 1,
   "id": "94a3c31a",
   "metadata": {
    "_cell_guid": "b1076dfc-b9ad-4769-8c92-a6c4dae69d19",
    "_uuid": "8f2839f25d086af736a60e9eeb907d3b93b6e0e5",
    "execution": {
     "iopub.execute_input": "2021-08-08T21:44:02.071490Z",
     "iopub.status.busy": "2021-08-08T21:44:02.070145Z",
     "iopub.status.idle": "2021-08-08T21:44:02.079740Z",
     "shell.execute_reply": "2021-08-08T21:44:02.080302Z",
     "shell.execute_reply.started": "2021-08-08T21:22:53.745905Z"
    },
    "papermill": {
     "duration": 0.025016,
     "end_time": "2021-08-08T21:44:02.080615",
     "exception": false,
     "start_time": "2021-08-08T21:44:02.055599",
     "status": "completed"
    },
    "tags": []
   },
   "outputs": [],
   "source": [
    "import numpy as np # linear algebra\n",
    "import pandas as pd # data processing, CSV file I/O (e.g. pd.read_csv)"
   ]
  },
  {
   "cell_type": "markdown",
   "id": "db23deec",
   "metadata": {
    "papermill": {
     "duration": 0.011513,
     "end_time": "2021-08-08T21:44:02.103802",
     "exception": false,
     "start_time": "2021-08-08T21:44:02.092289",
     "status": "completed"
    },
    "tags": []
   },
   "source": [
    "# Load dataset"
   ]
  },
  {
   "cell_type": "code",
   "execution_count": 2,
   "id": "d214115d",
   "metadata": {
    "execution": {
     "iopub.execute_input": "2021-08-08T21:44:02.129653Z",
     "iopub.status.busy": "2021-08-08T21:44:02.128992Z",
     "iopub.status.idle": "2021-08-08T21:44:12.905019Z",
     "shell.execute_reply": "2021-08-08T21:44:12.905530Z",
     "shell.execute_reply.started": "2021-08-08T21:22:53.759981Z"
    },
    "papermill": {
     "duration": 10.790571,
     "end_time": "2021-08-08T21:44:12.905728",
     "exception": false,
     "start_time": "2021-08-08T21:44:02.115157",
     "status": "completed"
    },
    "tags": []
   },
   "outputs": [
    {
     "name": "stdout",
     "output_type": "stream",
     "text": [
      "train shape: (250000, 102)\n",
      "test shape: (150000, 101)\n"
     ]
    }
   ],
   "source": [
    "train = pd.read_csv('../input/tabular-playground-series-aug-2021/train.csv')\n",
    "test = pd.read_csv('../input/tabular-playground-series-aug-2021/test.csv')\n",
    "print('train shape:',train.shape)\n",
    "print('test shape:',test.shape)"
   ]
  },
  {
   "cell_type": "code",
   "execution_count": 3,
   "id": "6ee4507c",
   "metadata": {
    "execution": {
     "iopub.execute_input": "2021-08-08T21:44:12.952669Z",
     "iopub.status.busy": "2021-08-08T21:44:12.951714Z",
     "iopub.status.idle": "2021-08-08T21:44:12.982731Z",
     "shell.execute_reply": "2021-08-08T21:44:12.983359Z",
     "shell.execute_reply.started": "2021-08-08T21:23:04.693354Z"
    },
    "papermill": {
     "duration": 0.066236,
     "end_time": "2021-08-08T21:44:12.983535",
     "exception": false,
     "start_time": "2021-08-08T21:44:12.917299",
     "status": "completed"
    },
    "tags": []
   },
   "outputs": [
    {
     "data": {
      "text/html": [
       "<div>\n",
       "<style scoped>\n",
       "    .dataframe tbody tr th:only-of-type {\n",
       "        vertical-align: middle;\n",
       "    }\n",
       "\n",
       "    .dataframe tbody tr th {\n",
       "        vertical-align: top;\n",
       "    }\n",
       "\n",
       "    .dataframe thead th {\n",
       "        text-align: right;\n",
       "    }\n",
       "</style>\n",
       "<table border=\"1\" class=\"dataframe\">\n",
       "  <thead>\n",
       "    <tr style=\"text-align: right;\">\n",
       "      <th></th>\n",
       "      <th>id</th>\n",
       "      <th>f0</th>\n",
       "      <th>f1</th>\n",
       "      <th>f2</th>\n",
       "      <th>f3</th>\n",
       "      <th>f4</th>\n",
       "      <th>f5</th>\n",
       "      <th>f6</th>\n",
       "      <th>f7</th>\n",
       "      <th>f8</th>\n",
       "      <th>...</th>\n",
       "      <th>f91</th>\n",
       "      <th>f92</th>\n",
       "      <th>f93</th>\n",
       "      <th>f94</th>\n",
       "      <th>f95</th>\n",
       "      <th>f96</th>\n",
       "      <th>f97</th>\n",
       "      <th>f98</th>\n",
       "      <th>f99</th>\n",
       "      <th>loss</th>\n",
       "    </tr>\n",
       "  </thead>\n",
       "  <tbody>\n",
       "    <tr>\n",
       "      <th>0</th>\n",
       "      <td>0</td>\n",
       "      <td>-0.002350</td>\n",
       "      <td>59</td>\n",
       "      <td>0.766739</td>\n",
       "      <td>-1.350460</td>\n",
       "      <td>42.2727</td>\n",
       "      <td>16.68570</td>\n",
       "      <td>30.3599</td>\n",
       "      <td>1.267300</td>\n",
       "      <td>0.392007</td>\n",
       "      <td>...</td>\n",
       "      <td>-42.43990</td>\n",
       "      <td>26.854000</td>\n",
       "      <td>1.45751</td>\n",
       "      <td>0.696161</td>\n",
       "      <td>0.941764</td>\n",
       "      <td>1.828470</td>\n",
       "      <td>0.924090</td>\n",
       "      <td>2.29658</td>\n",
       "      <td>10.48980</td>\n",
       "      <td>15</td>\n",
       "    </tr>\n",
       "    <tr>\n",
       "      <th>1</th>\n",
       "      <td>1</td>\n",
       "      <td>0.784462</td>\n",
       "      <td>145</td>\n",
       "      <td>-0.463845</td>\n",
       "      <td>-0.530421</td>\n",
       "      <td>27324.9000</td>\n",
       "      <td>3.47545</td>\n",
       "      <td>160.4980</td>\n",
       "      <td>0.828007</td>\n",
       "      <td>3.735860</td>\n",
       "      <td>...</td>\n",
       "      <td>-184.13200</td>\n",
       "      <td>7.901370</td>\n",
       "      <td>1.70644</td>\n",
       "      <td>-0.494699</td>\n",
       "      <td>-2.058300</td>\n",
       "      <td>0.819184</td>\n",
       "      <td>0.439152</td>\n",
       "      <td>2.36470</td>\n",
       "      <td>1.14383</td>\n",
       "      <td>3</td>\n",
       "    </tr>\n",
       "    <tr>\n",
       "      <th>2</th>\n",
       "      <td>2</td>\n",
       "      <td>0.317816</td>\n",
       "      <td>19</td>\n",
       "      <td>-0.432571</td>\n",
       "      <td>-0.382644</td>\n",
       "      <td>1383.2600</td>\n",
       "      <td>19.71290</td>\n",
       "      <td>31.1026</td>\n",
       "      <td>-0.515354</td>\n",
       "      <td>34.430800</td>\n",
       "      <td>...</td>\n",
       "      <td>7.43721</td>\n",
       "      <td>37.218100</td>\n",
       "      <td>3.25339</td>\n",
       "      <td>0.337934</td>\n",
       "      <td>0.615037</td>\n",
       "      <td>2.216760</td>\n",
       "      <td>0.745268</td>\n",
       "      <td>1.69679</td>\n",
       "      <td>12.30550</td>\n",
       "      <td>6</td>\n",
       "    </tr>\n",
       "    <tr>\n",
       "      <th>3</th>\n",
       "      <td>3</td>\n",
       "      <td>0.210753</td>\n",
       "      <td>17</td>\n",
       "      <td>-0.616454</td>\n",
       "      <td>0.946362</td>\n",
       "      <td>-119.2530</td>\n",
       "      <td>4.08235</td>\n",
       "      <td>185.2570</td>\n",
       "      <td>1.383310</td>\n",
       "      <td>-47.521400</td>\n",
       "      <td>...</td>\n",
       "      <td>9.66778</td>\n",
       "      <td>0.626942</td>\n",
       "      <td>1.49425</td>\n",
       "      <td>0.517513</td>\n",
       "      <td>-10.222100</td>\n",
       "      <td>2.627310</td>\n",
       "      <td>0.617270</td>\n",
       "      <td>1.45645</td>\n",
       "      <td>10.02880</td>\n",
       "      <td>2</td>\n",
       "    </tr>\n",
       "    <tr>\n",
       "      <th>4</th>\n",
       "      <td>4</td>\n",
       "      <td>0.439671</td>\n",
       "      <td>20</td>\n",
       "      <td>0.968126</td>\n",
       "      <td>-0.092546</td>\n",
       "      <td>74.3020</td>\n",
       "      <td>12.30650</td>\n",
       "      <td>72.1860</td>\n",
       "      <td>-0.233964</td>\n",
       "      <td>24.399100</td>\n",
       "      <td>...</td>\n",
       "      <td>290.65700</td>\n",
       "      <td>15.604300</td>\n",
       "      <td>1.73557</td>\n",
       "      <td>-0.476668</td>\n",
       "      <td>1.390190</td>\n",
       "      <td>2.195740</td>\n",
       "      <td>0.826987</td>\n",
       "      <td>1.78485</td>\n",
       "      <td>7.07197</td>\n",
       "      <td>1</td>\n",
       "    </tr>\n",
       "  </tbody>\n",
       "</table>\n",
       "<p>5 rows × 102 columns</p>\n",
       "</div>"
      ],
      "text/plain": [
       "   id        f0   f1        f2        f3          f4        f5        f6  \\\n",
       "0   0 -0.002350   59  0.766739 -1.350460     42.2727  16.68570   30.3599   \n",
       "1   1  0.784462  145 -0.463845 -0.530421  27324.9000   3.47545  160.4980   \n",
       "2   2  0.317816   19 -0.432571 -0.382644   1383.2600  19.71290   31.1026   \n",
       "3   3  0.210753   17 -0.616454  0.946362   -119.2530   4.08235  185.2570   \n",
       "4   4  0.439671   20  0.968126 -0.092546     74.3020  12.30650   72.1860   \n",
       "\n",
       "         f7         f8  ...        f91        f92      f93       f94  \\\n",
       "0  1.267300   0.392007  ...  -42.43990  26.854000  1.45751  0.696161   \n",
       "1  0.828007   3.735860  ... -184.13200   7.901370  1.70644 -0.494699   \n",
       "2 -0.515354  34.430800  ...    7.43721  37.218100  3.25339  0.337934   \n",
       "3  1.383310 -47.521400  ...    9.66778   0.626942  1.49425  0.517513   \n",
       "4 -0.233964  24.399100  ...  290.65700  15.604300  1.73557 -0.476668   \n",
       "\n",
       "         f95       f96       f97      f98       f99  loss  \n",
       "0   0.941764  1.828470  0.924090  2.29658  10.48980    15  \n",
       "1  -2.058300  0.819184  0.439152  2.36470   1.14383     3  \n",
       "2   0.615037  2.216760  0.745268  1.69679  12.30550     6  \n",
       "3 -10.222100  2.627310  0.617270  1.45645  10.02880     2  \n",
       "4   1.390190  2.195740  0.826987  1.78485   7.07197     1  \n",
       "\n",
       "[5 rows x 102 columns]"
      ]
     },
     "execution_count": 3,
     "metadata": {},
     "output_type": "execute_result"
    }
   ],
   "source": [
    "train.head()"
   ]
  },
  {
   "cell_type": "code",
   "execution_count": 4,
   "id": "5ccc21a3",
   "metadata": {
    "execution": {
     "iopub.execute_input": "2021-08-08T21:44:13.011252Z",
     "iopub.status.busy": "2021-08-08T21:44:13.010292Z",
     "iopub.status.idle": "2021-08-08T21:44:13.147078Z",
     "shell.execute_reply": "2021-08-08T21:44:13.146249Z",
     "shell.execute_reply.started": "2021-08-08T21:23:11.950509Z"
    },
    "papermill": {
     "duration": 0.151733,
     "end_time": "2021-08-08T21:44:13.147295",
     "exception": false,
     "start_time": "2021-08-08T21:44:12.995562",
     "status": "completed"
    },
    "tags": []
   },
   "outputs": [
    {
     "name": "stdout",
     "output_type": "stream",
     "text": [
      "Train set: (250000, 100)\n",
      "Test set: (150000, 100)\n"
     ]
    }
   ],
   "source": [
    "# Train data\n",
    "X=train.drop(columns = ['loss','id'])\n",
    "y=train['loss'].values\n",
    "\n",
    "# Test data\n",
    "X_test=test.drop(columns = ['id'])\n",
    "print('Train set:', X.shape)\n",
    "print('Test set:', X_test.shape)"
   ]
  },
  {
   "cell_type": "markdown",
   "id": "475415c0",
   "metadata": {
    "papermill": {
     "duration": 0.011963,
     "end_time": "2021-08-08T21:44:13.174650",
     "exception": false,
     "start_time": "2021-08-08T21:44:13.162687",
     "status": "completed"
    },
    "tags": []
   },
   "source": [
    "# Train Catboost model"
   ]
  },
  {
   "cell_type": "code",
   "execution_count": 5,
   "id": "703b2e6c",
   "metadata": {
    "execution": {
     "iopub.execute_input": "2021-08-08T21:44:13.205687Z",
     "iopub.status.busy": "2021-08-08T21:44:13.204814Z",
     "iopub.status.idle": "2021-08-08T21:54:43.271306Z",
     "shell.execute_reply": "2021-08-08T21:54:43.272291Z",
     "shell.execute_reply.started": "2021-08-08T21:23:39.935210Z"
    },
    "papermill": {
     "duration": 630.085293,
     "end_time": "2021-08-08T21:54:43.272562",
     "exception": false,
     "start_time": "2021-08-08T21:44:13.187269",
     "status": "completed"
    },
    "tags": []
   },
   "outputs": [
    {
     "data": {
      "text/plain": [
       "<catboost.core.CatBoostRegressor at 0x7f721293c110>"
      ]
     },
     "execution_count": 5,
     "metadata": {},
     "output_type": "execute_result"
    }
   ],
   "source": [
    "from catboost import CatBoostRegressor\n",
    "\n",
    "model = CatBoostRegressor(random_state = 44,\n",
    "                         thread_count = 4,\n",
    "                         verbose = False,\n",
    "                         loss_function = 'RMSE',\n",
    "                         eval_metric = 'RMSE',\n",
    "                         od_type = \"Iter\",\n",
    "                         early_stopping_rounds = 500,\n",
    "                         iterations = 10000,\n",
    "                         task_type = \"CPU\")\n",
    "model.fit(X, y, verbose=0)"
   ]
  },
  {
   "cell_type": "markdown",
   "id": "52ec0c0a",
   "metadata": {
    "papermill": {
     "duration": 0.012686,
     "end_time": "2021-08-08T21:54:43.298907",
     "exception": false,
     "start_time": "2021-08-08T21:54:43.286221",
     "status": "completed"
    },
    "tags": []
   },
   "source": [
    "# Model performance"
   ]
  },
  {
   "cell_type": "code",
   "execution_count": 6,
   "id": "ba32c190",
   "metadata": {
    "execution": {
     "iopub.execute_input": "2021-08-08T21:54:43.330243Z",
     "iopub.status.busy": "2021-08-08T21:54:43.329573Z",
     "iopub.status.idle": "2021-08-08T21:54:47.640857Z",
     "shell.execute_reply": "2021-08-08T21:54:47.641383Z",
     "shell.execute_reply.started": "2021-08-08T21:34:13.816393Z"
    },
    "papermill": {
     "duration": 4.329865,
     "end_time": "2021-08-08T21:54:47.641572",
     "exception": false,
     "start_time": "2021-08-08T21:54:43.311707",
     "status": "completed"
    },
    "tags": []
   },
   "outputs": [
    {
     "name": "stdout",
     "output_type": "stream",
     "text": [
      "R2 score:  0.1943145114992415\n",
      "RMSE:  7.127089207837219\n"
     ]
    }
   ],
   "source": [
    "from sklearn import metrics\n",
    "\n",
    "print('R2 score: ', model.score(X, y))\n",
    "predicted = model.predict(X)\n",
    "rmse = metrics.mean_squared_error(y, predicted, squared=False)\n",
    "print('RMSE: ', rmse)"
   ]
  },
  {
   "cell_type": "markdown",
   "id": "f369e14e",
   "metadata": {
    "papermill": {
     "duration": 0.01298,
     "end_time": "2021-08-08T21:54:47.668411",
     "exception": false,
     "start_time": "2021-08-08T21:54:47.655431",
     "status": "completed"
    },
    "tags": []
   },
   "source": [
    "# Prediction"
   ]
  },
  {
   "cell_type": "code",
   "execution_count": 7,
   "id": "9955c785",
   "metadata": {
    "execution": {
     "iopub.execute_input": "2021-08-08T21:54:47.708512Z",
     "iopub.status.busy": "2021-08-08T21:54:47.707401Z",
     "iopub.status.idle": "2021-08-08T21:54:48.621731Z",
     "shell.execute_reply": "2021-08-08T21:54:48.621162Z",
     "shell.execute_reply.started": "2021-08-08T21:34:17.694010Z"
    },
    "papermill": {
     "duration": 0.940197,
     "end_time": "2021-08-08T21:54:48.621883",
     "exception": false,
     "start_time": "2021-08-08T21:54:47.681686",
     "status": "completed"
    },
    "tags": []
   },
   "outputs": [],
   "source": [
    "y_pred = model.predict(X_test)"
   ]
  },
  {
   "cell_type": "markdown",
   "id": "85ea02e5",
   "metadata": {
    "papermill": {
     "duration": 0.013541,
     "end_time": "2021-08-08T21:54:48.649115",
     "exception": false,
     "start_time": "2021-08-08T21:54:48.635574",
     "status": "completed"
    },
    "tags": []
   },
   "source": [
    "# Submission"
   ]
  },
  {
   "cell_type": "code",
   "execution_count": 8,
   "id": "82fb51ef",
   "metadata": {
    "execution": {
     "iopub.execute_input": "2021-08-08T21:54:48.682306Z",
     "iopub.status.busy": "2021-08-08T21:54:48.681608Z",
     "iopub.status.idle": "2021-08-08T21:54:48.742707Z",
     "shell.execute_reply": "2021-08-08T21:54:48.742010Z",
     "shell.execute_reply.started": "2021-08-08T21:34:18.605707Z"
    },
    "papermill": {
     "duration": 0.079717,
     "end_time": "2021-08-08T21:54:48.742851",
     "exception": false,
     "start_time": "2021-08-08T21:54:48.663134",
     "status": "completed"
    },
    "tags": []
   },
   "outputs": [
    {
     "data": {
      "text/html": [
       "<div>\n",
       "<style scoped>\n",
       "    .dataframe tbody tr th:only-of-type {\n",
       "        vertical-align: middle;\n",
       "    }\n",
       "\n",
       "    .dataframe tbody tr th {\n",
       "        vertical-align: top;\n",
       "    }\n",
       "\n",
       "    .dataframe thead th {\n",
       "        text-align: right;\n",
       "    }\n",
       "</style>\n",
       "<table border=\"1\" class=\"dataframe\">\n",
       "  <thead>\n",
       "    <tr style=\"text-align: right;\">\n",
       "      <th></th>\n",
       "      <th>id</th>\n",
       "      <th>loss</th>\n",
       "    </tr>\n",
       "  </thead>\n",
       "  <tbody>\n",
       "    <tr>\n",
       "      <th>0</th>\n",
       "      <td>250000</td>\n",
       "      <td>8.763262</td>\n",
       "    </tr>\n",
       "    <tr>\n",
       "      <th>1</th>\n",
       "      <td>250001</td>\n",
       "      <td>4.563811</td>\n",
       "    </tr>\n",
       "    <tr>\n",
       "      <th>2</th>\n",
       "      <td>250002</td>\n",
       "      <td>8.589442</td>\n",
       "    </tr>\n",
       "    <tr>\n",
       "      <th>3</th>\n",
       "      <td>250003</td>\n",
       "      <td>7.491645</td>\n",
       "    </tr>\n",
       "    <tr>\n",
       "      <th>4</th>\n",
       "      <td>250004</td>\n",
       "      <td>6.973805</td>\n",
       "    </tr>\n",
       "  </tbody>\n",
       "</table>\n",
       "</div>"
      ],
      "text/plain": [
       "       id      loss\n",
       "0  250000  8.763262\n",
       "1  250001  4.563811\n",
       "2  250002  8.589442\n",
       "3  250003  7.491645\n",
       "4  250004  6.973805"
      ]
     },
     "execution_count": 8,
     "metadata": {},
     "output_type": "execute_result"
    }
   ],
   "source": [
    "preds = pd.read_csv(\"../input/tabular-playground-series-aug-2021/sample_submission.csv\")\n",
    "preds.loss = y_pred\n",
    "preds.head()"
   ]
  },
  {
   "cell_type": "code",
   "execution_count": 9,
   "id": "c5573b40",
   "metadata": {
    "execution": {
     "iopub.execute_input": "2021-08-08T21:54:48.775898Z",
     "iopub.status.busy": "2021-08-08T21:54:48.775133Z",
     "iopub.status.idle": "2021-08-08T21:54:49.324773Z",
     "shell.execute_reply": "2021-08-08T21:54:49.325408Z"
    },
    "papermill": {
     "duration": 0.56884,
     "end_time": "2021-08-08T21:54:49.325608",
     "exception": false,
     "start_time": "2021-08-08T21:54:48.756768",
     "status": "completed"
    },
    "tags": []
   },
   "outputs": [],
   "source": [
    "preds.to_csv('submission_catboost_101.csv', index=False)"
   ]
  }
 ],
 "metadata": {
  "kernelspec": {
   "display_name": "Python 3",
   "language": "python",
   "name": "python3"
  },
  "language_info": {
   "codemirror_mode": {
    "name": "ipython",
    "version": 3
   },
   "file_extension": ".py",
   "mimetype": "text/x-python",
   "name": "python",
   "nbconvert_exporter": "python",
   "pygments_lexer": "ipython3",
   "version": "3.7.10"
  },
  "papermill": {
   "default_parameters": {},
   "duration": 655.644565,
   "end_time": "2021-08-08T21:54:50.151261",
   "environment_variables": {},
   "exception": null,
   "input_path": "__notebook__.ipynb",
   "output_path": "__notebook__.ipynb",
   "parameters": {},
   "start_time": "2021-08-08T21:43:54.506696",
   "version": "2.3.3"
  }
 },
 "nbformat": 4,
 "nbformat_minor": 5
}
