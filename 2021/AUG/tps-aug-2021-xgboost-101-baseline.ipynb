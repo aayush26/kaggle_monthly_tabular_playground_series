{
 "cells": [
  {
   "cell_type": "markdown",
   "id": "413a73f8",
   "metadata": {
    "papermill": {
     "duration": 0.011418,
     "end_time": "2021-08-09T21:54:41.259899",
     "exception": false,
     "start_time": "2021-08-09T21:54:41.248481",
     "status": "completed"
    },
    "tags": []
   },
   "source": [
    "# Imports"
   ]
  },
  {
   "cell_type": "code",
   "execution_count": 1,
   "id": "49c79ddf",
   "metadata": {
    "execution": {
     "iopub.execute_input": "2021-08-09T21:54:41.292479Z",
     "iopub.status.busy": "2021-08-09T21:54:41.291836Z",
     "iopub.status.idle": "2021-08-09T21:54:42.640053Z",
     "shell.execute_reply": "2021-08-09T21:54:42.639220Z",
     "shell.execute_reply.started": "2021-08-09T21:39:03.026832Z"
    },
    "papermill": {
     "duration": 1.369762,
     "end_time": "2021-08-09T21:54:42.640222",
     "exception": false,
     "start_time": "2021-08-09T21:54:41.270460",
     "status": "completed"
    },
    "tags": []
   },
   "outputs": [],
   "source": [
    "import numpy as np # linear algebra\n",
    "import pandas as pd # data processing, CSV file I/O (e.g. pd.read_csv)\n",
    "from xgboost import XGBRegressor"
   ]
  },
  {
   "cell_type": "markdown",
   "id": "5427102c",
   "metadata": {
    "papermill": {
     "duration": 0.009925,
     "end_time": "2021-08-09T21:54:42.660567",
     "exception": false,
     "start_time": "2021-08-09T21:54:42.650642",
     "status": "completed"
    },
    "tags": []
   },
   "source": [
    "# Load dataset"
   ]
  },
  {
   "cell_type": "code",
   "execution_count": 2,
   "id": "6a4007d0",
   "metadata": {
    "execution": {
     "iopub.execute_input": "2021-08-09T21:54:42.687203Z",
     "iopub.status.busy": "2021-08-09T21:54:42.686417Z",
     "iopub.status.idle": "2021-08-09T21:54:54.087223Z",
     "shell.execute_reply": "2021-08-09T21:54:54.087813Z",
     "shell.execute_reply.started": "2021-08-09T21:39:28.356917Z"
    },
    "papermill": {
     "duration": 11.417377,
     "end_time": "2021-08-09T21:54:54.088164",
     "exception": false,
     "start_time": "2021-08-09T21:54:42.670787",
     "status": "completed"
    },
    "tags": []
   },
   "outputs": [
    {
     "name": "stdout",
     "output_type": "stream",
     "text": [
      "train shape: (250000, 102)\n",
      "test shape: (150000, 101)\n"
     ]
    }
   ],
   "source": [
    "train = pd.read_csv('../input/tabular-playground-series-aug-2021/train.csv')\n",
    "test = pd.read_csv('../input/tabular-playground-series-aug-2021/test.csv')\n",
    "print('train shape:',train.shape)\n",
    "print('test shape:',test.shape)"
   ]
  },
  {
   "cell_type": "code",
   "execution_count": 3,
   "id": "8b131003",
   "metadata": {
    "execution": {
     "iopub.execute_input": "2021-08-09T21:54:54.133946Z",
     "iopub.status.busy": "2021-08-09T21:54:54.124457Z",
     "iopub.status.idle": "2021-08-09T21:54:54.166630Z",
     "shell.execute_reply": "2021-08-09T21:54:54.165980Z",
     "shell.execute_reply.started": "2021-08-09T21:39:37.559025Z"
    },
    "papermill": {
     "duration": 0.067284,
     "end_time": "2021-08-09T21:54:54.166793",
     "exception": false,
     "start_time": "2021-08-09T21:54:54.099509",
     "status": "completed"
    },
    "tags": []
   },
   "outputs": [
    {
     "data": {
      "text/html": [
       "<div>\n",
       "<style scoped>\n",
       "    .dataframe tbody tr th:only-of-type {\n",
       "        vertical-align: middle;\n",
       "    }\n",
       "\n",
       "    .dataframe tbody tr th {\n",
       "        vertical-align: top;\n",
       "    }\n",
       "\n",
       "    .dataframe thead th {\n",
       "        text-align: right;\n",
       "    }\n",
       "</style>\n",
       "<table border=\"1\" class=\"dataframe\">\n",
       "  <thead>\n",
       "    <tr style=\"text-align: right;\">\n",
       "      <th></th>\n",
       "      <th>id</th>\n",
       "      <th>f0</th>\n",
       "      <th>f1</th>\n",
       "      <th>f2</th>\n",
       "      <th>f3</th>\n",
       "      <th>f4</th>\n",
       "      <th>f5</th>\n",
       "      <th>f6</th>\n",
       "      <th>f7</th>\n",
       "      <th>f8</th>\n",
       "      <th>...</th>\n",
       "      <th>f91</th>\n",
       "      <th>f92</th>\n",
       "      <th>f93</th>\n",
       "      <th>f94</th>\n",
       "      <th>f95</th>\n",
       "      <th>f96</th>\n",
       "      <th>f97</th>\n",
       "      <th>f98</th>\n",
       "      <th>f99</th>\n",
       "      <th>loss</th>\n",
       "    </tr>\n",
       "  </thead>\n",
       "  <tbody>\n",
       "    <tr>\n",
       "      <th>0</th>\n",
       "      <td>0</td>\n",
       "      <td>-0.002350</td>\n",
       "      <td>59</td>\n",
       "      <td>0.766739</td>\n",
       "      <td>-1.350460</td>\n",
       "      <td>42.2727</td>\n",
       "      <td>16.68570</td>\n",
       "      <td>30.3599</td>\n",
       "      <td>1.267300</td>\n",
       "      <td>0.392007</td>\n",
       "      <td>...</td>\n",
       "      <td>-42.43990</td>\n",
       "      <td>26.854000</td>\n",
       "      <td>1.45751</td>\n",
       "      <td>0.696161</td>\n",
       "      <td>0.941764</td>\n",
       "      <td>1.828470</td>\n",
       "      <td>0.924090</td>\n",
       "      <td>2.29658</td>\n",
       "      <td>10.48980</td>\n",
       "      <td>15</td>\n",
       "    </tr>\n",
       "    <tr>\n",
       "      <th>1</th>\n",
       "      <td>1</td>\n",
       "      <td>0.784462</td>\n",
       "      <td>145</td>\n",
       "      <td>-0.463845</td>\n",
       "      <td>-0.530421</td>\n",
       "      <td>27324.9000</td>\n",
       "      <td>3.47545</td>\n",
       "      <td>160.4980</td>\n",
       "      <td>0.828007</td>\n",
       "      <td>3.735860</td>\n",
       "      <td>...</td>\n",
       "      <td>-184.13200</td>\n",
       "      <td>7.901370</td>\n",
       "      <td>1.70644</td>\n",
       "      <td>-0.494699</td>\n",
       "      <td>-2.058300</td>\n",
       "      <td>0.819184</td>\n",
       "      <td>0.439152</td>\n",
       "      <td>2.36470</td>\n",
       "      <td>1.14383</td>\n",
       "      <td>3</td>\n",
       "    </tr>\n",
       "    <tr>\n",
       "      <th>2</th>\n",
       "      <td>2</td>\n",
       "      <td>0.317816</td>\n",
       "      <td>19</td>\n",
       "      <td>-0.432571</td>\n",
       "      <td>-0.382644</td>\n",
       "      <td>1383.2600</td>\n",
       "      <td>19.71290</td>\n",
       "      <td>31.1026</td>\n",
       "      <td>-0.515354</td>\n",
       "      <td>34.430800</td>\n",
       "      <td>...</td>\n",
       "      <td>7.43721</td>\n",
       "      <td>37.218100</td>\n",
       "      <td>3.25339</td>\n",
       "      <td>0.337934</td>\n",
       "      <td>0.615037</td>\n",
       "      <td>2.216760</td>\n",
       "      <td>0.745268</td>\n",
       "      <td>1.69679</td>\n",
       "      <td>12.30550</td>\n",
       "      <td>6</td>\n",
       "    </tr>\n",
       "    <tr>\n",
       "      <th>3</th>\n",
       "      <td>3</td>\n",
       "      <td>0.210753</td>\n",
       "      <td>17</td>\n",
       "      <td>-0.616454</td>\n",
       "      <td>0.946362</td>\n",
       "      <td>-119.2530</td>\n",
       "      <td>4.08235</td>\n",
       "      <td>185.2570</td>\n",
       "      <td>1.383310</td>\n",
       "      <td>-47.521400</td>\n",
       "      <td>...</td>\n",
       "      <td>9.66778</td>\n",
       "      <td>0.626942</td>\n",
       "      <td>1.49425</td>\n",
       "      <td>0.517513</td>\n",
       "      <td>-10.222100</td>\n",
       "      <td>2.627310</td>\n",
       "      <td>0.617270</td>\n",
       "      <td>1.45645</td>\n",
       "      <td>10.02880</td>\n",
       "      <td>2</td>\n",
       "    </tr>\n",
       "    <tr>\n",
       "      <th>4</th>\n",
       "      <td>4</td>\n",
       "      <td>0.439671</td>\n",
       "      <td>20</td>\n",
       "      <td>0.968126</td>\n",
       "      <td>-0.092546</td>\n",
       "      <td>74.3020</td>\n",
       "      <td>12.30650</td>\n",
       "      <td>72.1860</td>\n",
       "      <td>-0.233964</td>\n",
       "      <td>24.399100</td>\n",
       "      <td>...</td>\n",
       "      <td>290.65700</td>\n",
       "      <td>15.604300</td>\n",
       "      <td>1.73557</td>\n",
       "      <td>-0.476668</td>\n",
       "      <td>1.390190</td>\n",
       "      <td>2.195740</td>\n",
       "      <td>0.826987</td>\n",
       "      <td>1.78485</td>\n",
       "      <td>7.07197</td>\n",
       "      <td>1</td>\n",
       "    </tr>\n",
       "  </tbody>\n",
       "</table>\n",
       "<p>5 rows × 102 columns</p>\n",
       "</div>"
      ],
      "text/plain": [
       "   id        f0   f1        f2        f3          f4        f5        f6  \\\n",
       "0   0 -0.002350   59  0.766739 -1.350460     42.2727  16.68570   30.3599   \n",
       "1   1  0.784462  145 -0.463845 -0.530421  27324.9000   3.47545  160.4980   \n",
       "2   2  0.317816   19 -0.432571 -0.382644   1383.2600  19.71290   31.1026   \n",
       "3   3  0.210753   17 -0.616454  0.946362   -119.2530   4.08235  185.2570   \n",
       "4   4  0.439671   20  0.968126 -0.092546     74.3020  12.30650   72.1860   \n",
       "\n",
       "         f7         f8  ...        f91        f92      f93       f94  \\\n",
       "0  1.267300   0.392007  ...  -42.43990  26.854000  1.45751  0.696161   \n",
       "1  0.828007   3.735860  ... -184.13200   7.901370  1.70644 -0.494699   \n",
       "2 -0.515354  34.430800  ...    7.43721  37.218100  3.25339  0.337934   \n",
       "3  1.383310 -47.521400  ...    9.66778   0.626942  1.49425  0.517513   \n",
       "4 -0.233964  24.399100  ...  290.65700  15.604300  1.73557 -0.476668   \n",
       "\n",
       "         f95       f96       f97      f98       f99  loss  \n",
       "0   0.941764  1.828470  0.924090  2.29658  10.48980    15  \n",
       "1  -2.058300  0.819184  0.439152  2.36470   1.14383     3  \n",
       "2   0.615037  2.216760  0.745268  1.69679  12.30550     6  \n",
       "3 -10.222100  2.627310  0.617270  1.45645  10.02880     2  \n",
       "4   1.390190  2.195740  0.826987  1.78485   7.07197     1  \n",
       "\n",
       "[5 rows x 102 columns]"
      ]
     },
     "execution_count": 3,
     "metadata": {},
     "output_type": "execute_result"
    }
   ],
   "source": [
    "train.head()\n"
   ]
  },
  {
   "cell_type": "code",
   "execution_count": 4,
   "id": "caf78135",
   "metadata": {
    "execution": {
     "iopub.execute_input": "2021-08-09T21:54:54.325069Z",
     "iopub.status.busy": "2021-08-09T21:54:54.324258Z",
     "iopub.status.idle": "2021-08-09T21:54:54.328528Z",
     "shell.execute_reply": "2021-08-09T21:54:54.327918Z",
     "shell.execute_reply.started": "2021-08-09T21:44:48.559223Z"
    },
    "papermill": {
     "duration": 0.150455,
     "end_time": "2021-08-09T21:54:54.328663",
     "exception": false,
     "start_time": "2021-08-09T21:54:54.178208",
     "status": "completed"
    },
    "tags": []
   },
   "outputs": [
    {
     "name": "stdout",
     "output_type": "stream",
     "text": [
      "Train set: (250000, 100)\n",
      "Test set: (150000, 100)\n"
     ]
    }
   ],
   "source": [
    "# Train data\n",
    "X_train = train.drop(columns = ['loss','id'])\n",
    "y_train = train['loss'].values\n",
    "\n",
    "# Test data\n",
    "X_test=test.drop(columns = ['id'])\n",
    "print('Train set:', X_train.shape)\n",
    "print('Test set:', X_test.shape)"
   ]
  },
  {
   "cell_type": "markdown",
   "id": "300e07c8",
   "metadata": {
    "papermill": {
     "duration": 0.011132,
     "end_time": "2021-08-09T21:54:54.351413",
     "exception": false,
     "start_time": "2021-08-09T21:54:54.340281",
     "status": "completed"
    },
    "tags": []
   },
   "source": [
    "# Model training"
   ]
  },
  {
   "cell_type": "code",
   "execution_count": 5,
   "id": "3e0b194b",
   "metadata": {
    "execution": {
     "iopub.execute_input": "2021-08-09T21:54:54.380643Z",
     "iopub.status.busy": "2021-08-09T21:54:54.379977Z",
     "iopub.status.idle": "2021-08-09T21:54:54.383355Z",
     "shell.execute_reply": "2021-08-09T21:54:54.382688Z",
     "shell.execute_reply.started": "2021-08-09T21:47:52.284242Z"
    },
    "papermill": {
     "duration": 0.020657,
     "end_time": "2021-08-09T21:54:54.383497",
     "exception": false,
     "start_time": "2021-08-09T21:54:54.362840",
     "status": "completed"
    },
    "tags": []
   },
   "outputs": [],
   "source": [
    "xgb_params = {'n_estimators': 10000,\n",
    "              'learning_rate': 0.010154255408501112,\n",
    "              'subsample': 0.8406787739843629,\n",
    "              'colsample_bytree': 0.7078557348809151,\n",
    "              'max_depth': 7,\n",
    "              'reg_lambda': 93.9874814976386,\n",
    "              'reg_alpha': 33.26324929265035,\n",
    "              'random_state': 42,\n",
    "              'n_jobs': 4}"
   ]
  },
  {
   "cell_type": "code",
   "execution_count": 6,
   "id": "a1bced67",
   "metadata": {
    "execution": {
     "iopub.execute_input": "2021-08-09T21:54:54.415015Z",
     "iopub.status.busy": "2021-08-09T21:54:54.414331Z",
     "iopub.status.idle": "2021-08-10T03:44:44.592348Z",
     "shell.execute_reply": "2021-08-10T03:44:44.592902Z"
    },
    "papermill": {
     "duration": 20990.197962,
     "end_time": "2021-08-10T03:44:44.593198",
     "exception": false,
     "start_time": "2021-08-09T21:54:54.395236",
     "status": "completed"
    },
    "tags": []
   },
   "outputs": [
    {
     "data": {
      "text/plain": [
       "XGBRegressor(base_score=0.5, booster='gbtree', colsample_bylevel=1,\n",
       "             colsample_bynode=1, colsample_bytree=0.7078557348809151, gamma=0,\n",
       "             gpu_id=-1, importance_type='gain', interaction_constraints='',\n",
       "             learning_rate=0.010154255408501112, max_delta_step=0, max_depth=7,\n",
       "             min_child_weight=1, missing=nan, monotone_constraints='()',\n",
       "             n_estimators=10000, n_jobs=4, num_parallel_tree=1, random_state=42,\n",
       "             reg_alpha=33.26324929265035, reg_lambda=93.9874814976386,\n",
       "             scale_pos_weight=1, subsample=0.8406787739843629,\n",
       "             tree_method='exact', validate_parameters=1, verbosity=None)"
      ]
     },
     "execution_count": 6,
     "metadata": {},
     "output_type": "execute_result"
    }
   ],
   "source": [
    "model = XGBRegressor(**xgb_params)\n",
    "model.fit(X_train, y_train,\n",
    "          eval_metric=\"rmse\",\n",
    "          verbose=True)"
   ]
  },
  {
   "cell_type": "markdown",
   "id": "14f865bb",
   "metadata": {
    "papermill": {
     "duration": 0.011621,
     "end_time": "2021-08-10T03:44:44.616752",
     "exception": false,
     "start_time": "2021-08-10T03:44:44.605131",
     "status": "completed"
    },
    "tags": []
   },
   "source": [
    "# Prediction"
   ]
  },
  {
   "cell_type": "code",
   "execution_count": 7,
   "id": "cedd8365",
   "metadata": {
    "execution": {
     "iopub.execute_input": "2021-08-10T03:44:44.647056Z",
     "iopub.status.busy": "2021-08-10T03:44:44.646096Z",
     "iopub.status.idle": "2021-08-10T03:45:09.687907Z",
     "shell.execute_reply": "2021-08-10T03:45:09.687179Z"
    },
    "papermill": {
     "duration": 25.059535,
     "end_time": "2021-08-10T03:45:09.688084",
     "exception": false,
     "start_time": "2021-08-10T03:44:44.628549",
     "status": "completed"
    },
    "tags": []
   },
   "outputs": [],
   "source": [
    "y_pred = model.predict(X_test)"
   ]
  },
  {
   "cell_type": "markdown",
   "id": "346158a3",
   "metadata": {
    "papermill": {
     "duration": 0.011937,
     "end_time": "2021-08-10T03:45:09.713591",
     "exception": false,
     "start_time": "2021-08-10T03:45:09.701654",
     "status": "completed"
    },
    "tags": []
   },
   "source": [
    "# Submission"
   ]
  },
  {
   "cell_type": "code",
   "execution_count": 8,
   "id": "ec3dcffb",
   "metadata": {
    "execution": {
     "iopub.execute_input": "2021-08-10T03:45:09.743723Z",
     "iopub.status.busy": "2021-08-10T03:45:09.743064Z",
     "iopub.status.idle": "2021-08-10T03:45:09.799017Z",
     "shell.execute_reply": "2021-08-10T03:45:09.799528Z"
    },
    "papermill": {
     "duration": 0.073816,
     "end_time": "2021-08-10T03:45:09.799697",
     "exception": false,
     "start_time": "2021-08-10T03:45:09.725881",
     "status": "completed"
    },
    "tags": []
   },
   "outputs": [
    {
     "data": {
      "text/html": [
       "<div>\n",
       "<style scoped>\n",
       "    .dataframe tbody tr th:only-of-type {\n",
       "        vertical-align: middle;\n",
       "    }\n",
       "\n",
       "    .dataframe tbody tr th {\n",
       "        vertical-align: top;\n",
       "    }\n",
       "\n",
       "    .dataframe thead th {\n",
       "        text-align: right;\n",
       "    }\n",
       "</style>\n",
       "<table border=\"1\" class=\"dataframe\">\n",
       "  <thead>\n",
       "    <tr style=\"text-align: right;\">\n",
       "      <th></th>\n",
       "      <th>id</th>\n",
       "      <th>loss</th>\n",
       "    </tr>\n",
       "  </thead>\n",
       "  <tbody>\n",
       "    <tr>\n",
       "      <th>0</th>\n",
       "      <td>250000</td>\n",
       "      <td>8.333747</td>\n",
       "    </tr>\n",
       "    <tr>\n",
       "      <th>1</th>\n",
       "      <td>250001</td>\n",
       "      <td>5.177156</td>\n",
       "    </tr>\n",
       "    <tr>\n",
       "      <th>2</th>\n",
       "      <td>250002</td>\n",
       "      <td>9.839396</td>\n",
       "    </tr>\n",
       "    <tr>\n",
       "      <th>3</th>\n",
       "      <td>250003</td>\n",
       "      <td>7.150661</td>\n",
       "    </tr>\n",
       "    <tr>\n",
       "      <th>4</th>\n",
       "      <td>250004</td>\n",
       "      <td>6.289563</td>\n",
       "    </tr>\n",
       "  </tbody>\n",
       "</table>\n",
       "</div>"
      ],
      "text/plain": [
       "       id      loss\n",
       "0  250000  8.333747\n",
       "1  250001  5.177156\n",
       "2  250002  9.839396\n",
       "3  250003  7.150661\n",
       "4  250004  6.289563"
      ]
     },
     "execution_count": 8,
     "metadata": {},
     "output_type": "execute_result"
    }
   ],
   "source": [
    "preds = pd.read_csv(\"../input/tabular-playground-series-aug-2021/sample_submission.csv\")\n",
    "preds.loss = y_pred\n",
    "preds.head()"
   ]
  },
  {
   "cell_type": "code",
   "execution_count": 9,
   "id": "1bae08ba",
   "metadata": {
    "execution": {
     "iopub.execute_input": "2021-08-10T03:45:09.829054Z",
     "iopub.status.busy": "2021-08-10T03:45:09.828386Z",
     "iopub.status.idle": "2021-08-10T03:45:10.278285Z",
     "shell.execute_reply": "2021-08-10T03:45:10.277639Z"
    },
    "papermill": {
     "duration": 0.465395,
     "end_time": "2021-08-10T03:45:10.278434",
     "exception": false,
     "start_time": "2021-08-10T03:45:09.813039",
     "status": "completed"
    },
    "tags": []
   },
   "outputs": [],
   "source": [
    "preds.to_csv('submission_xgbboost_101.csv', index=False)"
   ]
  }
 ],
 "metadata": {
  "kernelspec": {
   "display_name": "Python 3",
   "language": "python",
   "name": "python3"
  },
  "language_info": {
   "codemirror_mode": {
    "name": "ipython",
    "version": 3
   },
   "file_extension": ".py",
   "mimetype": "text/x-python",
   "name": "python",
   "nbconvert_exporter": "python",
   "pygments_lexer": "ipython3",
   "version": "3.7.10"
  },
  "papermill": {
   "default_parameters": {},
   "duration": 21038.52541,
   "end_time": "2021-08-10T03:45:11.202593",
   "environment_variables": {},
   "exception": null,
   "input_path": "__notebook__.ipynb",
   "output_path": "__notebook__.ipynb",
   "parameters": {},
   "start_time": "2021-08-09T21:54:32.677183",
   "version": "2.3.3"
  }
 },
 "nbformat": 4,
 "nbformat_minor": 5
}
